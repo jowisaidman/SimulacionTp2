{
 "cells": [
  {
   "cell_type": "markdown",
   "metadata": {},
   "source": [
    "# Ejercicio 2"
   ]
  },
  {
   "cell_type": "code",
   "execution_count": 1,
   "metadata": {},
   "outputs": [],
   "source": [
    "import numpy as np\n",
    "import matplotlib.pyplot as plt\n",
    "from scipy.stats import expon,chi2"
   ]
  },
  {
   "cell_type": "code",
   "execution_count": 2,
   "metadata": {},
   "outputs": [],
   "source": [
    "accionA = np.genfromtxt('./accion A.csv',delimiter=',',skip_header=1)\n",
    "accionB = np.genfromtxt('./accion B.csv',delimiter=',',skip_header=0)"
   ]
  },
  {
   "cell_type": "code",
   "execution_count": 3,
   "metadata": {},
   "outputs": [],
   "source": [
    "def calcEstado(diferencia):\n",
    "    if (diferencia < 0):\n",
    "        return 0;\n",
    "    elif diferencia == 0:\n",
    "        return 1;\n",
    "    else:\n",
    "        return 2;"
   ]
  },
  {
   "cell_type": "markdown",
   "metadata": {},
   "source": [
    "## Determinación de los estados"
   ]
  },
  {
   "cell_type": "markdown",
   "metadata": {},
   "source": [
    "Consideraremos que cada acción es un sistema separado es decir, que no interactúan entre ellas. Habiendo dicho esto, los estados que determinamos para cada sistema son: bajó, quedó igual, subió (representados con 0,1 y 2 respectivamente en la simulación). Esto nos permitiría simular el comportamiento de una acción en un día determinado teniendo en cuenta lo que ocurrió con ella el día anterior.\n",
    "\n",
    "Un ejemplo de transición entre estados sería: si el día 1 la acción A vale 10, el día 2 vale 15, y el día 3 vale 12,\n",
    "al pasar del día 2 al día 3 estaríamos transicionando entre el estado 2 (suba) al 0 (baja)."
   ]
  },
  {
   "cell_type": "markdown",
   "metadata": {},
   "source": [
    "## Matriz de estados de la acción A"
   ]
  },
  {
   "cell_type": "markdown",
   "metadata": {},
   "source": [
    "A partir de los datos de los valores de la acción durante casi 1000 días, calculamos la matriz de transiciones de estados, con los estados que fueron determinados en el inciso anterior"
   ]
  },
  {
   "cell_type": "code",
   "execution_count": 4,
   "metadata": {},
   "outputs": [
    {
     "data": {
      "text/plain": [
       "array([[0.41007194, 0.        , 0.58992806],\n",
       "       [0.5       , 0.        , 0.5       ],\n",
       "       [0.55808656, 0.00455581, 0.43735763]])"
      ]
     },
     "execution_count": 4,
     "metadata": {},
     "output_type": "execute_result"
    }
   ],
   "source": [
    "ocurrenciasEstadoA = np.zeros(3);\n",
    "matrizEstadosA = np.zeros((3,3))\n",
    "\n",
    "diferenciasEstadoA = np.array([[0],[],[]],dtype=object)\n",
    "diferenciasEstadoA[0].pop()\n",
    "\n",
    "diferencia = accionA[1][1]-accionA[0][1]\n",
    "estadoAnterior = calcEstado(diferencia)\n",
    "\n",
    "# Calculo las transiciones entre estados\n",
    "for i in range(2,len(accionA)):\n",
    "    diferencia = (accionA[i][1]-accionA[i-1][1])\n",
    "    estadoActual = calcEstado(diferencia)\n",
    "    ocurrenciasEstadoA[estadoActual] += 1;\n",
    "    matrizEstadosA[estadoAnterior][estadoActual] += 1;\n",
    "    diferenciasEstadoA[estadoActual].append(abs(diferencia))\n",
    "    estadoAnterior = estadoActual\n",
    "\n",
    "# Normalizo las filas\n",
    "for i in range(len(matrizEstadosA)):\n",
    "    matrizEstadosA[i] /= (ocurrenciasEstadoA[i] if ocurrenciasEstadoA[i] != 0 else 1)\n",
    "    \n",
    "matrizEstadosA"
   ]
  },
  {
   "cell_type": "markdown",
   "metadata": {},
   "source": [
    "Para luego poder simular el comportamiento de la acción y su rendimiento, nos interesa saber también con qué valor transiciona entre cada estado es decir, qué tanto baja y qué tanto sube. Para eso, analizamos los histogramas de las caídas y subas de la acción."
   ]
  },
  {
   "cell_type": "code",
   "execution_count": 5,
   "metadata": {},
   "outputs": [
    {
     "data": {
      "text/plain": [
       "Text(0.5,1,'Histograma de subas de accion A')"
      ]
     },
     "execution_count": 5,
     "metadata": {},
     "output_type": "execute_result"
    },
    {
     "data": {
      "image/png": "[encoded data removed]",
      "text/plain": [
       "<Figure size 864x288 with 2 Axes>"
      ]
     },
     "metadata": {},
     "output_type": "display_data"
    }
   ],
   "source": [
    "plt.figure(figsize=[12,4])\n",
    "\n",
    "plt.subplot(121)\n",
    "plt.hist(diferenciasEstadoA[0],bins='sturges',density=True)\n",
    "plt.title(\"Histograma de caidas de accion A\")\n",
    "\n",
    "plt.subplot(122)\n",
    "plt.hist(diferenciasEstadoA[2],bins='sturges',density=True)\n",
    "plt.title(\"Histograma de subas de accion A\")\n"
   ]
  },
  {
   "cell_type": "markdown",
   "metadata": {},
   "source": [
    "Vemos que la distribución de las bajas y subas tiene clara forma de exponencial. A continuación superponemos los histogramas con las curvas de la densidad exponencial para confirmarlo."
   ]
  },
  {
   "cell_type": "code",
   "execution_count": 6,
   "metadata": {},
   "outputs": [
    {
     "data": {
      "text/plain": [
       "8.016546762589927"
      ]
     },
     "execution_count": 6,
     "metadata": {},
     "output_type": "execute_result"
    }
   ],
   "source": [
    "mediaBajaA = np.mean(diferenciasEstadoA[0])\n",
    "mediaBajaA"
   ]
  },
  {
   "cell_type": "code",
   "execution_count": 7,
   "metadata": {},
   "outputs": [
    {
     "data": {
      "text/plain": [
       "[<matplotlib.lines.Line2D at 0x1087a5898>]"
      ]
     },
     "execution_count": 7,
     "metadata": {},
     "output_type": "execute_result"
    },
    {
     "data": {
      "image/png": "[encoded data removed]",
      "text/plain": [
       "<Figure size 432x288 with 1 Axes>"
      ]
     },
     "metadata": {},
     "output_type": "display_data"
    }
   ],
   "source": [
    "t = np.arange(0,40,0.5)\n",
    "\n",
    "plt.hist(diferenciasEstadoA[0],bins='sturges',density=True) \n",
    "plt.plot(t,expon.pdf(t,scale=mediaBajaA))"
   ]
  },
  {
   "cell_type": "code",
   "execution_count": 8,
   "metadata": {},
   "outputs": [
    {
     "data": {
      "text/plain": [
       "7.649316628701594"
      ]
     },
     "execution_count": 8,
     "metadata": {},
     "output_type": "execute_result"
    }
   ],
   "source": [
    "mediaSubaA = np.mean(diferenciasEstadoA[2])\n",
    "mediaSubaA"
   ]
  },
  {
   "cell_type": "code",
   "execution_count": 9,
   "metadata": {},
   "outputs": [
    {
     "data": {
      "text/plain": [
       "[<matplotlib.lines.Line2D at 0x112813048>]"
      ]
     },
     "execution_count": 9,
     "metadata": {},
     "output_type": "execute_result"
    },
    {
     "data": {
      "image/png": "[encoded data removed]",
      "text/plain": [
       "<Figure size 432x288 with 1 Axes>"
      ]
     },
     "metadata": {},
     "output_type": "display_data"
    }
   ],
   "source": [
    "t = np.arange(0,40,0.5)\n",
    "\n",
    "plt.hist(diferenciasEstadoA[2],bins='sturges',density=True) \n",
    "plt.plot(t,expon.pdf(t,scale=mediaSubaA))"
   ]
  },
  {
   "cell_type": "markdown",
   "metadata": {},
   "source": [
    "#### Convergencia de la matriz de transiciones de A\n",
    "\n",
    "Analizamos la convergencia de la matriz de transiciones de la acción. Esto nos dará el porcentaje de tiempo que cada acción transcurre en cada estado.\n",
    "\n",
    "Primero obtenemos los autovalores de la matriz de transiciones."
   ]
  },
  {
   "cell_type": "code",
   "execution_count": 10,
   "metadata": {},
   "outputs": [
    {
     "data": {
      "text/plain": [
       "(array([ 1.        , -0.14983614, -0.00273429]),\n",
       " array([[ 0.57735027,  0.719881  ,  0.01820932],\n",
       "        [ 0.57735027, -0.1222434 , -0.999753  ],\n",
       "        [ 0.57735027, -0.68324805, -0.0127421 ]]))"
      ]
     },
     "execution_count": 10,
     "metadata": {},
     "output_type": "execute_result"
    }
   ],
   "source": [
    "np.linalg.eig(matrizEstadosA)"
   ]
  },
  {
   "cell_type": "markdown",
   "metadata": {},
   "source": [
    "Al no tener autovalores mayores a 1, la matriz converge, y el valor que aparece en cada columna de la matriz a la que convergte es el porcentaje de los tiempos en que la acción se encuentra en cada estado."
   ]
  },
  {
   "cell_type": "code",
   "execution_count": 11,
   "metadata": {},
   "outputs": [
    {
     "data": {
      "text/plain": [
       "array([[0.48601399, 0.002331  , 0.51165501],\n",
       "       [0.48601399, 0.002331  , 0.51165501],\n",
       "       [0.48601399, 0.002331  , 0.51165501]])"
      ]
     },
     "execution_count": 11,
     "metadata": {},
     "output_type": "execute_result"
    }
   ],
   "source": [
    "np.linalg.matrix_power(matrizEstadosA,100)"
   ]
  },
  {
   "cell_type": "markdown",
   "metadata": {},
   "source": [
    "Vemos que la acción sube un 51% de los días y cae casi un 49% de los días. "
   ]
  },
  {
   "cell_type": "markdown",
   "metadata": {},
   "source": [
    "## Matriz de estados de la acción B"
   ]
  },
  {
   "cell_type": "markdown",
   "metadata": {},
   "source": [
    "En primer lugar calculamos las matrices de transición entre estados"
   ]
  },
  {
   "cell_type": "code",
   "execution_count": 12,
   "metadata": {},
   "outputs": [
    {
     "data": {
      "text/plain": [
       "array([[0.35454545, 0.00227273, 0.64090909],\n",
       "       [0.66666667, 0.        , 0.33333333],\n",
       "       [0.67951807, 0.00481928, 0.31807229]])"
      ]
     },
     "execution_count": 12,
     "metadata": {},
     "output_type": "execute_result"
    }
   ],
   "source": [
    "ocurrenciasEstadoB = np.zeros(3);\n",
    "matrizEstadosB = np.zeros((3,3))\n",
    "\n",
    "diferenciasEstadoB = np.array([[0],[],[]],dtype=object)\n",
    "diferenciasEstadoB[0].pop()\n",
    "\n",
    "diferencia = accionB[1][1]-accionB[0][1]\n",
    "estadoAnterior = calcEstado(diferencia)\n",
    "for i in range(2,len(accionB)):\n",
    "    diferencia = (accionB[i][1]-accionB[i-1][1])\n",
    "    estadoActual = calcEstado(diferencia)\n",
    "    ocurrenciasEstadoB[estadoActual] += 1;\n",
    "    matrizEstadosB[estadoAnterior][estadoActual] += 1;\n",
    "    estadoAnterior = estadoActual\n",
    "    diferenciasEstadoB[estadoActual].append(abs(diferencia))\n",
    "\n",
    "for i in range(len(matrizEstadosA)):\n",
    "    matrizEstadosB[i] /= (ocurrenciasEstadoB[i] \\\n",
    "                          if ocurrenciasEstadoB[i] != 0 else 1)\n",
    "\n",
    "matrizEstadosB"
   ]
  },
  {
   "cell_type": "markdown",
   "metadata": {},
   "source": [
    "Vemos que la acción A tiende a cambiar de estados mucho más que la acción A es decir, si un día baja es muy probable que al siguiente suba, y viceversa."
   ]
  },
  {
   "cell_type": "code",
   "execution_count": 13,
   "metadata": {},
   "outputs": [
    {
     "data": {
      "text/plain": [
       "Text(0.5,1,'Histograma de subas de accion B')"
      ]
     },
     "execution_count": 13,
     "metadata": {},
     "output_type": "execute_result"
    },
    {
     "data": {
      "image/png": "[encoded data removed]",
      "text/plain": [
       "<Figure size 864x288 with 2 Axes>"
      ]
     },
     "metadata": {},
     "output_type": "display_data"
    }
   ],
   "source": [
    "plt.figure(figsize=[12,4])\n",
    "\n",
    "plt.subplot(121)\n",
    "plt.hist(diferenciasEstadoB[0],bins='sturges',density=True)\n",
    "plt.title(\"Histograma de caidas de accion B\")\n",
    "\n",
    "plt.subplot(122)\n",
    "plt.hist(diferenciasEstadoB[2],bins='sturges',density=True)\n",
    "plt.title(\"Histograma de subas de accion B\")\n"
   ]
  },
  {
   "cell_type": "markdown",
   "metadata": {},
   "source": [
    "Si bien los histogramas tiene cierto aspecto de caída exponencial, quizás menos marcado que en la acción A."
   ]
  },
  {
   "cell_type": "code",
   "execution_count": 14,
   "metadata": {},
   "outputs": [
    {
     "data": {
      "text/plain": [
       "4.639045454545454"
      ]
     },
     "execution_count": 14,
     "metadata": {},
     "output_type": "execute_result"
    }
   ],
   "source": [
    "mediaBajaB = np.mean(diferenciasEstadoB[0])\n",
    "mediaBajaB"
   ]
  },
  {
   "cell_type": "code",
   "execution_count": 15,
   "metadata": {},
   "outputs": [
    {
     "data": {
      "text/plain": [
       "<matplotlib.legend.Legend at 0x112cc3d30>"
      ]
     },
     "execution_count": 15,
     "metadata": {},
     "output_type": "execute_result"
    },
    {
     "data": {
      "image/png": "[encoded data removed]",
      "text/plain": [
       "<Figure size 432x288 with 1 Axes>"
      ]
     },
     "metadata": {},
     "output_type": "display_data"
    }
   ],
   "source": [
    "t = np.arange(0,15,0.5)\n",
    "\n",
    "plt.hist(diferenciasEstadoB[0],bins='sturges',density=True) \n",
    "plt.plot(t,expon.pdf(t,scale=mediaBajaB),label=\"Exponencial\")\n",
    "plt.legend()"
   ]
  },
  {
   "cell_type": "code",
   "execution_count": 16,
   "metadata": {},
   "outputs": [
    {
     "data": {
      "text/plain": [
       "4.886313253012049"
      ]
     },
     "execution_count": 16,
     "metadata": {},
     "output_type": "execute_result"
    }
   ],
   "source": [
    "mediaSubaB = np.mean(diferenciasEstadoB[2])\n",
    "mediaSubaB"
   ]
  },
  {
   "cell_type": "code",
   "execution_count": 17,
   "metadata": {},
   "outputs": [
    {
     "data": {
      "text/plain": [
       "<matplotlib.legend.Legend at 0x111ddd940>"
      ]
     },
     "execution_count": 17,
     "metadata": {},
     "output_type": "execute_result"
    },
    {
     "data": {
      "image/png": "[encoded data removed]",
      "text/plain": [
       "<Figure size 432x288 with 1 Axes>"
      ]
     },
     "metadata": {},
     "output_type": "display_data"
    }
   ],
   "source": [
    "t = np.arange(0,15,0.5)\n",
    "\n",
    "plt.hist(diferenciasEstadoB[2],bins='sturges',density=True) \n",
    "plt.plot(t,expon.pdf(t,scale=mediaSubaB),label=\"Exponencial\")\n",
    "plt.legend()"
   ]
  },
  {
   "cell_type": "markdown",
   "metadata": {},
   "source": [
    "#### Convergencia de la matriz de transiciones de B"
   ]
  },
  {
   "cell_type": "code",
   "execution_count": 18,
   "metadata": {},
   "outputs": [
    {
     "data": {
      "text/plain": [
       "(array([ 1.        , -0.32266387, -0.00471839]),\n",
       " array([[ 5.76442219e-01,  5.71109560e-01,  7.37003845e-03],\n",
       "        [ 5.77122789e-01, -5.58624285e-01, -9.99972670e-01],\n",
       "        [ 5.78483927e-01, -6.01475502e-01, -5.85298575e-04]]))"
      ]
     },
     "execution_count": 18,
     "metadata": {},
     "output_type": "execute_result"
    }
   ],
   "source": [
    "np.linalg.eig(matrizEstadosB)"
   ]
  },
  {
   "cell_type": "markdown",
   "metadata": {},
   "source": [
    "Los autovalores tienen módulo menor o igual a 1 lo que nos indica que la matriz converge. A continuación tenemos los valores de la matriz de convergencia."
   ]
  },
  {
   "cell_type": "code",
   "execution_count": 19,
   "metadata": {},
   "outputs": [
    {
     "data": {
      "text/plain": [
       "array([[0.51194136, 0.00349051, 0.48285378],\n",
       "       [0.51254578, 0.00349463, 0.48342386],\n",
       "       [0.51375461, 0.00350287, 0.48456401]])"
      ]
     },
     "execution_count": 19,
     "metadata": {},
     "output_type": "execute_result"
    }
   ],
   "source": [
    "np.linalg.matrix_power(matrizEstadosB,50)"
   ]
  },
  {
   "cell_type": "code",
   "execution_count": 20,
   "metadata": {},
   "outputs": [
    {
     "data": {
      "text/plain": [
       "array([[0.51194136, 0.00349051, 0.48285378],\n",
       "       [0.51254578, 0.00349463, 0.48342386],\n",
       "       [0.51375461, 0.00350287, 0.48456401]])"
      ]
     },
     "execution_count": 20,
     "metadata": {},
     "output_type": "execute_result"
    }
   ],
   "source": [
    "np.linalg.matrix_power(matrizEstadosB,60)"
   ]
  },
  {
   "cell_type": "markdown",
   "metadata": {},
   "source": [
    "El hecho de que las matriz de transiciones converja a una matriz con columnas que tienen más de un valor se trata la introducción algun error numérico al dividir para normalizar las filas de las columnas. Podemos ver que el porcentaje de tiempo que la acción B transcurre en baja es un poco mayor que la acción A. Esto ya nos estaría dando un indicio de que la matriz A es la mejor opción."
   ]
  },
  {
   "cell_type": "markdown",
   "metadata": {},
   "source": [
    "## Simulación"
   ]
  },
  {
   "cell_type": "markdown",
   "metadata": {},
   "source": [
    "### Acción A"
   ]
  },
  {
   "cell_type": "code",
   "execution_count": 21,
   "metadata": {},
   "outputs": [],
   "source": [
    "def calcTransicion(u,fila):\n",
    "    if u < fila[0]:\n",
    "        return 0\n",
    "    elif u < fila[0] + fila[1]:\n",
    "        return 1\n",
    "    else: \n",
    "        return 2"
   ]
  },
  {
   "cell_type": "code",
   "execution_count": 22,
   "metadata": {},
   "outputs": [
    {
     "data": {
      "text/plain": [
       "array([[0.48601399, 0.002331  , 0.51165501],\n",
       "       [0.48601399, 0.002331  , 0.51165501],\n",
       "       [0.48601399, 0.002331  , 0.51165501]])"
      ]
     },
     "execution_count": 22,
     "metadata": {},
     "output_type": "execute_result"
    }
   ],
   "source": [
    "finalA = np.linalg.matrix_power(matrizEstadosA,100)\n",
    "finalA"
   ]
  },
  {
   "cell_type": "code",
   "execution_count": 23,
   "metadata": {},
   "outputs": [],
   "source": [
    "estadoAnterior = calcTransicion(np.random.rand(),finalA[1])\n",
    "rendimientoA = np.zeros(366);\n",
    "for i in range(1,366):\n",
    "    estadoActual = calcTransicion(np.random.rand()\\\n",
    "                                  ,matrizEstadosA[estadoAnterior])\n",
    "    if estadoActual == 0:\n",
    "        rendimientoA[i] = rendimientoA[i-1] - expon.rvs(scale=mediaBajaA)\n",
    "    elif estadoActual == 1:\n",
    "        rendimientoA[i] = rendimientoA[i-1]\n",
    "    else:\n",
    "        rendimientoA[i] = rendimientoA[i-1] + expon.rvs(scale=mediaSubaA)\n",
    "    estadoAnterior = estadoActual"
   ]
  },
  {
   "cell_type": "code",
   "execution_count": 24,
   "metadata": {},
   "outputs": [
    {
     "data": {
      "text/plain": [
       "array([[0.51194136, 0.00349051, 0.48285378],\n",
       "       [0.51254578, 0.00349463, 0.48342386],\n",
       "       [0.51375461, 0.00350287, 0.48456401]])"
      ]
     },
     "execution_count": 24,
     "metadata": {},
     "output_type": "execute_result"
    }
   ],
   "source": [
    "finalB = np.linalg.matrix_power(matrizEstadosB,200)\n",
    "finalB"
   ]
  },
  {
   "cell_type": "code",
   "execution_count": 25,
   "metadata": {},
   "outputs": [
    {
     "data": {
      "text/plain": [
       "array([[0.51194136, 0.00349051, 0.48285378],\n",
       "       [0.51254578, 0.00349463, 0.48342386],\n",
       "       [0.51375461, 0.00350287, 0.48456401]])"
      ]
     },
     "execution_count": 25,
     "metadata": {},
     "output_type": "execute_result"
    }
   ],
   "source": [
    "finalB = np.linalg.matrix_power(matrizEstadosB,100)\n",
    "finalB"
   ]
  },
  {
   "cell_type": "code",
   "execution_count": 26,
   "metadata": {},
   "outputs": [],
   "source": [
    "estadoAnterior = calcTransicion(np.random.rand(),finalB[1])\n",
    "rendimientoB = np.zeros(366);\n",
    "for i in range(1,366):\n",
    "    estadoActual = calcTransicion(np.random.rand()\\\n",
    "                                  ,matrizEstadosB[estadoAnterior])\n",
    "    if estadoActual == 0:\n",
    "        rendimientoB[i] = rendimientoB[i-1] - expon.rvs(scale=mediaBajaB)\n",
    "    elif estadoActual == 1:\n",
    "        rendimientoB[i] = rendimientoB[i-1]\n",
    "    else:\n",
    "        rendimientoB[i] = rendimientoB[i-1] + expon.rvs(scale=mediaSubaB)\n",
    "    estadoAnterior = estadoActual"
   ]
  },
  {
   "cell_type": "code",
   "execution_count": 27,
   "metadata": {},
   "outputs": [
    {
     "data": {
      "text/plain": [
       "<matplotlib.legend.Legend at 0x112eb3d68>"
      ]
     },
     "execution_count": 27,
     "metadata": {},
     "output_type": "execute_result"
    },
    {
     "data": {
      "image/png": "[encoded data removed]",
      "text/plain": [
       "<Figure size 864x432 with 1 Axes>"
      ]
     },
     "metadata": {},
     "output_type": "display_data"
    }
   ],
   "source": [
    "plt.figure(figsize=[12,6])\n",
    "plt.title(\"Rendimiento de las acciones durante 365 días\",fontsize=14)\n",
    "plt.plot(np.arange(0,366,1),rendimientoA,label=\"Rendimiento de A\")\n",
    "plt.plot(np.arange(0,366,1),rendimientoB,label=\"Rendimiento de B\")\n",
    "plt.grid(True)\n",
    "plt.ylabel(\"+/- de la acción\",fontsize=14)\n",
    "plt.xlabel(\"Días\",fontsize=14)\n",
    "plt.legend(loc='best',prop= {'size':12})"
   ]
  },
  {
   "cell_type": "markdown",
   "metadata": {},
   "source": [
    "En base a la simulación, recomendaría comprar la acción A. \n",
    "\n",
    "En primer lugar, la misma termina con una ganancia mucho más alta que la acción B. (que terminó con rendimiento negativo).\n",
    "Obviamente que tenemos el resultado de una única simulación, y sería conveniente hacer muchas más simulaciones para poder tomar una decisión concreta.\n",
    "\n",
    "Un aspecto que podemos observar como diferencia entre el comportamiento de las acciones, es que la acción A se tiene un comportamiento que muestra varias \"rachas\" es decir, se observa que es común que suba varios días seguidos o baje varios días seguidos. Esto lo podríamos haber inferido de las matrices de transición.\n",
    "La acción B al contrario, tiene mayor cantidad de transiciones entre estados distintos es decir, si un día sube, es más probable que al siguiente baje.  \n",
    "\n",
    "Esto también confirma que es necesario realizar más simulaciones para poder obtener un resultado más confiable, ya que en otra simulación la acción A podría tener rachas negativas y llevarnos a tomar una decisión distinta."
   ]
  }
 ],
 "metadata": {
  "kernelspec": {
   "display_name": "Python 3",
   "language": "python",
   "name": "python3"
  },
  "language_info": {
   "codemirror_mode": {
    "name": "ipython",
    "version": 3
   },
   "file_extension": ".py",
   "mimetype": "text/x-python",
   "name": "python",
   "nbconvert_exporter": "python",
   "pygments_lexer": "ipython3",
   "version": "3.6.4"
  }
 },
 "nbformat": 4,
 "nbformat_minor": 2
}
