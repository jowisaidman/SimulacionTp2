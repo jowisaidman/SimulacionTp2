{
 "cells": [
  {
   "cell_type": "markdown",
   "metadata": {},
   "source": [
    "## Ejercicio 1"
   ]
  },
  {
   "cell_type": "markdown",
   "metadata": {},
   "source": [
    "Los arribos de muestras al instituto ocurren de acuerdo a un proceso de Poisson con tasa de arribos de 1 evento cada 4 horas o lo que es lo mismo $\\frac{0.25}{\\textrm{hora}}$.\n",
    "\n",
    "Por otro lado, en el caso del proveedor 1 tendremos también un caso de coloreo de eventos de un proceso Poisson, al tener que distribuir las muestras entre 2 unidades de diagnóstico con probabilidades 0.6 y 0.4. Esto nos permite ver a la llegada de muestras a cada una de las unidades de diagnóstico como procesos de Poisson separados, uno con tasa de arribo $\\frac{1}{\\lambda_1} = 0.6 \\times \\frac{0.25}{\\textrm{hora}}$ y el otro con tasa de arribo $ \\frac{1}{\\lambda_2} = 0.4 \\times \\frac{0.25}{\\textrm{hora}}$ \n"
   ]
  },
  {
   "cell_type": "markdown",
   "metadata": {},
   "source": [
    "### Proveedor 1"
   ]
  },
  {
   "cell_type": "markdown",
   "metadata": {},
   "source": [
    "La simulación se llevará a cabo de la siguiente forma:\n",
    "En primer lugar, se simula el tiempo que demora en llegar una solicitud, desde la llegada de la anterior.\n",
    "Esto se hace con un generador de muestras de una exponencial con media 4.\n",
    "\n",
    "Se tiene almacenado el tiempo de espera que vigente para cada una de las unidades de diagnóstico luego de la llegada de la solicitud anterior. A esos valores se les resta el tiempo transcurrido entre esta solicitud y la anterior, o se los setea a cero, en caso de que el tiempo de espera vigente fuese menor.\n",
    "\n",
    "Luego, se simula la asignación de la muestra a una de las unidades de diagnóstico mediante la generación de uan variable uniforme entre 0 y 1, y su mapeo a la región [0,p) o [p,1]. \n",
    "\n",
    "Si el valor de la variable de tiempo de espera de la unidad a la que se asignó la muestra es mayor a cero, se lo suma al tiempo de espera total, y se incrementa un contador que registra la cantidad de muestras que debieron esperar.\n",
    "\n",
    "Seguido a esto, se simula el tiempo que demora el diagnóstico de la muestra, mediante un generador de exponenciales con media 0.7 o 1 según la unidad de diagnóstico. \n",
    "\n",
    "El tiempo de diagnóstico se suma a una variable que guarda la suma del tiempo de diagnóstico de todas las muestras.\n",
    "\n",
    "Se le suma al tiempo de espera de la unidad correspondiente el tiempo de diagnóstico de la muestra.\n",
    "\n",
    "El proceso descripto se repite 100.000 veces. \n",
    "\n",
    "Una vez finalizado, se computa (con N = 100.000):\n",
    "El tiempo medio de espera de cada muestra como la espera total sobre la cantidad de muestras (100.000)\n",
    "\n",
    "$$\n",
    "\\overline{T}_{\\textrm{espera}} = \\frac{\\textrm{espera_total}}{N}\n",
    "$$\n",
    "\n",
    "La fracción de solicitudes que no esperaron como la diferencia entre las muestras totales y las que esperaron, sobre la cantidad de muestras totales\n",
    "\n",
    "$$\n",
    "\\textrm{fracción sin espera} = \\frac{N - \\textrm{con_espera}}{N}\n",
    "$$\n",
    "\n",
    "El tiempo medio que demora en resolverse cada diagnóstico, incluyendo espera y tiempo de diagnóstico.\n",
    "\n",
    "$$\n",
    "\\overline{T}_{\\textrm{muestra}} = \\frac{\\textrm{espera_total} + \\textrm{total_diag}}{N}\n",
    "$$\n"
   ]
  },
  {
   "cell_type": "code",
   "execution_count": 1,
   "metadata": {},
   "outputs": [],
   "source": [
    "import numpy as np\n",
    "import matplotlib.pyplot as plt\n",
    "from scipy.stats import expon"
   ]
  },
  {
   "cell_type": "code",
   "execution_count": 2,
   "metadata": {},
   "outputs": [],
   "source": [
    "# Parámetros\n",
    "N = 100000\n",
    "media_llegada = 4\n",
    "media_diag1 = 0.7\n",
    "media_diag2 = 1\n",
    "p = 0.6\n",
    "\n",
    "espera1 = 0\n",
    "espera2 = 0\n",
    "espera_total = 0\n",
    "esperaron = 0\n",
    "total_diag = 0\n",
    "\n",
    "t_global = 0\n",
    "llegada_1 = []\n",
    "llegada_2 = []\n",
    "esperaron_1 = []\n",
    "esperaron_2 = []\n",
    "for i in range(0,N):\n",
    "    t = expon.rvs(size=1,scale=media_llegada)[0]\n",
    "    t_global+= t\n",
    "    espera1 = 0 if espera1 - t < 0 else espera1 - t\n",
    "    espera2 = 0 if espera2 - t < 0 else espera2 - t\n",
    "    if np.random.rand() < p:\n",
    "        llegada_1.append(t_global)\n",
    "        if (espera1 > 0):\n",
    "            esperaron+=1\n",
    "            esperaron_1.append(t_global)\n",
    "            espera_total+=espera1\n",
    "        t_diag = expon.rvs(size=1,scale=media_diag1)[0]\n",
    "        total_diag += t_diag\n",
    "        espera1 += t_diag\n",
    "    \n",
    "    else:\n",
    "        llegada_2.append(t_global)\n",
    "        if (espera2 > 0):\n",
    "            esperaron+=1\n",
    "            esperaron_2.append(t_global)\n",
    "            espera_total+=espera2\n",
    "        t_diag = expon.rvs(size=1,scale=media_diag2)[0]\n",
    "        total_diag += t_diag\n",
    "        espera2 += t_diag"
   ]
  },
  {
   "cell_type": "code",
   "execution_count": 3,
   "metadata": {},
   "outputs": [
    {
     "data": {
      "text/plain": [
       "0.09309941682638465"
      ]
     },
     "execution_count": 3,
     "metadata": {},
     "output_type": "execute_result"
    }
   ],
   "source": [
    "##Tiempo medio de espera por muestra (en horas)\n",
    "espera_total / N"
   ]
  },
  {
   "cell_type": "markdown",
   "metadata": {},
   "source": [
    "El tiempo de espera medio por muestra es de 0.093 horas por muestra (unos 5.6 minutos)"
   ]
  },
  {
   "cell_type": "code",
   "execution_count": 4,
   "metadata": {},
   "outputs": [
    {
     "data": {
      "text/plain": [
       "0.89756"
      ]
     },
     "execution_count": 4,
     "metadata": {},
     "output_type": "execute_result"
    }
   ],
   "source": [
    "# Fracción de muestras que no espera\n",
    "(N - esperaron) / N"
   ]
  },
  {
   "cell_type": "markdown",
   "metadata": {},
   "source": [
    "Un 89.8% de las muestras fueron diagnosticadas sin esperar"
   ]
  },
  {
   "cell_type": "code",
   "execution_count": 5,
   "metadata": {},
   "outputs": [
    {
     "data": {
      "text/plain": [
       "0.9162486271868445"
      ]
     },
     "execution_count": 5,
     "metadata": {},
     "output_type": "execute_result"
    }
   ],
   "source": [
    "# Tiempo medio de procesamiento de una muestra (en horas)\n",
    "(total_diag + espera_total) / N"
   ]
  },
  {
   "cell_type": "markdown",
   "metadata": {},
   "source": [
    "El tiempo medio de procesamiento de las muestras, incluyendo tiempo de diagnóstico y espera fue de 0.92 horas por muestra es decir, unos 55 minutos.\n",
    "\n",
    "En el siguiente gráfico se observan los arribos de muestras durante las primeras 1000 horas de simulación, y como se distribuyen entre las unidades de diagnóstico."
   ]
  },
  {
   "cell_type": "code",
   "execution_count": 6,
   "metadata": {},
   "outputs": [
    {
     "data": {
      "text/plain": [
       "<matplotlib.legend.Legend at 0x11209d518>"
      ]
     },
     "execution_count": 6,
     "metadata": {},
     "output_type": "execute_result"
    },
    {
     "data": {
      "image/png": "[encoded data removed]",
      "text/plain": [
       "<Figure size 1728x576 with 1 Axes>"
      ]
     },
     "metadata": {},
     "output_type": "display_data"
    }
   ],
   "source": [
    "plt.figure(figsize=[24,8])\n",
    "\n",
    "T = 1000\n",
    "T_horas_u1 = [t for t in llegada_1 if t < T]\n",
    "T_horas_u2 = [t for t in llegada_2 if t < T]\n",
    "\n",
    "T_horas_espera_1 = [t for t in esperaron_1 if t < T]\n",
    "T_horas_espera_2 = [t for t in esperaron_2 if t < T]\n",
    "\n",
    "y1 = [T_horas_u1.index(t) for t in T_horas_espera_1]\n",
    "y2 = [T_horas_u2.index(t) for t in T_horas_espera_2]\n",
    "T_horas_espera = T_horas_espera_1 + T_horas_espera_2\n",
    "y = y1+y2\n",
    "plt.subplot(122)\n",
    "plt.plot(T_horas_u1,np.arange(0,len(T_horas_u1),1),'ro',\\\n",
    "         alpha=0.4,label=\"Unidad 1 (p=0.6)\")\n",
    "plt.plot(T_horas_u2,np.arange(0,len(T_horas_u2),1),'bo',\\\n",
    "         alpha=0.4,label=\"Unidad 2 (p=0.4)\")\n",
    "plt.plot(T_horas_espera,y,'kD',alpha=1,label=\"Esperó\")\n",
    "\n",
    "\n",
    "plt.ylabel(\"Muestras recibidas\",size=14)\n",
    "plt.xlabel(\"Horas transcurridas\",size=14)\n",
    "plt.grid(True)\n",
    "plt.title(\"Arribo de muestras en primeras {} horas\".format(T))\n",
    "plt.legend()\n"
   ]
  },
  {
   "cell_type": "markdown",
   "metadata": {},
   "source": [
    "En el gráfico podemos ver que hay mas muestras que son asignadas a la unidad 1 como era de esperarse, ya que el arribo de muestras a esa unidad representa un proceso de Poisson con tasa de arribo mayor a la de la unidad 2.\n",
    "\n",
    "Podemos ver también que solo una pequeña fracción de las muestras requieren de esperar. Esto se debe a que el tiempo de diagnóstico de las unidades es en media mucho menor que el tiempo entre arribos.\n",
    "\n",
    "Dado a que tanto el tiempo entre arribos y el tiempo de diagnóstico son exponenciales independientes, podemos pensar que lo que determina si una muestra espera o no es el resultado de una \"carrera\" entre las exponenciales. Al ser la media del tiempo de diagnóstico mucho menor que la de arribos de muestras, casi todas las \"carreras\" son ganadas por la exponencial que representa el diagnóstico, haciendo que haya muy pocas esperas."
   ]
  },
  {
   "cell_type": "markdown",
   "metadata": {},
   "source": [
    "### Proveedor 2"
   ]
  },
  {
   "cell_type": "markdown",
   "metadata": {},
   "source": [
    "En este caso, el proceso de simulación es análogo al usado para el proveedor 1, pero simplificado por el hecho de que hay una única unidad de diagnóstico y por lo tanto menos variables que simular."
   ]
  },
  {
   "cell_type": "code",
   "execution_count": 7,
   "metadata": {},
   "outputs": [],
   "source": [
    "ts = llegada_1 + llegada_2\n",
    "ts.sort()\n",
    "\n",
    "media_llegada = 4\n",
    "media_diag = 0.8\n",
    "\n",
    "espera_total = 0\n",
    "esperaron = 0\n",
    "total_diag = 0\n",
    "espera = 0\n",
    "\n",
    "t_ant = 0\n",
    "arribo_espera = []\n",
    "for i in range(0,N):\n",
    "    t = ts[i] - t_ant\n",
    "    t_ant = ts[i]\n",
    "    espera = 0 if espera - t < 0 else espera - t\n",
    "    if (espera > 0):\n",
    "        arribo_espera.append(ts[i])\n",
    "        esperaron+=1\n",
    "        espera_total+=espera\n",
    "    t_diag = expon.rvs(size=1,scale=media_diag)[0]\n",
    "    total_diag += t_diag\n",
    "    espera += t_diag"
   ]
  },
  {
   "cell_type": "code",
   "execution_count": 8,
   "metadata": {},
   "outputs": [
    {
     "data": {
      "text/plain": [
       "0.19718919237480434"
      ]
     },
     "execution_count": 8,
     "metadata": {},
     "output_type": "execute_result"
    }
   ],
   "source": [
    "##Tiempo medio de espera por muestra (en horas)\n",
    "espera_total / N"
   ]
  },
  {
   "cell_type": "markdown",
   "metadata": {},
   "source": [
    "El tiempo de espera promedio es de 0.20 horas por muestra (unos 12 minutos)."
   ]
  },
  {
   "cell_type": "code",
   "execution_count": 9,
   "metadata": {},
   "outputs": [
    {
     "data": {
      "text/plain": [
       "0.80002"
      ]
     },
     "execution_count": 9,
     "metadata": {},
     "output_type": "execute_result"
    }
   ],
   "source": [
    "# Fracción de muestras que no espera\n",
    "(N - esperaron) / N"
   ]
  },
  {
   "cell_type": "markdown",
   "metadata": {},
   "source": [
    "El 80% de las muestras fueron diagnosticadas sin espera."
   ]
  },
  {
   "cell_type": "code",
   "execution_count": 10,
   "metadata": {},
   "outputs": [
    {
     "data": {
      "text/plain": [
       "0.9955463263673912"
      ]
     },
     "execution_count": 10,
     "metadata": {},
     "output_type": "execute_result"
    }
   ],
   "source": [
    "# Tiempo medio de procesamiento de una muestra (en horas)\n",
    "(total_diag + espera_total) / N"
   ]
  },
  {
   "cell_type": "markdown",
   "metadata": {},
   "source": [
    "El tiempo de procesamiento medio fue de 0.996 horas por muestra (prácticamente 60 minutos).\n",
    "\n",
    "En el siguiente gráfico vemos los arribos de muestras de las primeras 1000 horas de simulación, identificando a las muestras que tuvieron que esperar."
   ]
  },
  {
   "cell_type": "code",
   "execution_count": 11,
   "metadata": {},
   "outputs": [
    {
     "data": {
      "text/plain": [
       "<matplotlib.legend.Legend at 0x11272d390>"
      ]
     },
     "execution_count": 11,
     "metadata": {},
     "output_type": "execute_result"
    },
    {
     "data": {
      "image/png": "[encoded data removed]",
      "text/plain": [
       "<Figure size 1440x576 with 1 Axes>"
      ]
     },
     "metadata": {},
     "output_type": "display_data"
    }
   ],
   "source": [
    "plt.figure(figsize=[20,8])\n",
    "\n",
    "T = 1000\n",
    "\n",
    "T_horas = [t for t in ts if t < T]\n",
    "\n",
    "T_horas_espera = [t for t in arribo_espera if t < T]\n",
    "\n",
    "y = [T_horas.index(t) for t in T_horas_espera]\n",
    "y = y\n",
    "plt.plot(T_horas,np.zeros(len(T_horas)),'ro',\\\n",
    "         alpha=0.4,label=\"Sin espera\")\n",
    "plt.plot(T_horas_espera,np.zeros(len(T_horas_espera)),'kD'\\\n",
    "         ,alpha=1,label=\"Con espera\")\n",
    "\n",
    "\n",
    "plt.ylabel(\"Muestras recibidas\",size=14)\n",
    "plt.xlabel(\"Horas transcurridas\",size=14)\n",
    "plt.grid(True)\n",
    "plt.title(\"Arribo de muestras en primeras {} horas\"\\\n",
    "          .format(T))\n",
    "plt.legend()"
   ]
  },
  {
   "cell_type": "markdown",
   "metadata": {},
   "source": [
    "A diferencia del caso anterior, en este caso vemos que al haber una única unidad de diagnóstico, hay momentos en que se acumulan muestras en la cola de espera a ser diagnósticadas. Esto puede verse por ejemplo alrededor del tiempo 700 hs."
   ]
  },
  {
   "cell_type": "markdown",
   "metadata": {},
   "source": [
    "Vemos que todos los indicadores que se nos pidió extraer de la simulador favorecen al sistema ofrecido por el proveedor 1.\n",
    "\n",
    "En primer lugar, en el sistema del proveedor 1, el tiempo medio de espera por muestra es de 0,093 horas o 5,6 minutos. En el sistema del proveedor 2, esta magnitud se duplicó, siendo el tiempo de espera promedio de unas 0,2 horas o 12 minutos.\n",
    "\n",
    "La fracción de muestras que no esperaron a ser procesadas fue 0,89 en el sistema del proveedor 1 y 0,80 en el proveedor 2. \n",
    "\n",
    "Por último, el tiempo medio que requiere cada muestra, incluyendo espera y diagnóstico, fue de 0,92 horas en el sistema del proveedor 1, y de 0,996 horas en el del proveedor 2.\n",
    "\n",
    "Si bien la opción 1 es claramente procesa las muestras con mayor velocidad, el tiempo medio de procesamiento (espera+diagnóstico) por muestra es solo un 8% menor que el de la opción 2. Esto es insuficiente para decidir por la compra de la opción 1, ya que se nos pide que el tiempo medio por muestra sea al menos 50% menor que el de la opción 2 para justificar su mayor costo.\n",
    "\n",
    "En conclusión, en base al criterio del enunciado, la opción recomendada es la 2.\n"
   ]
  },
  {
   "cell_type": "code",
   "execution_count": null,
   "metadata": {},
   "outputs": [],
   "source": []
  }
 ],
 "metadata": {
  "kernelspec": {
   "display_name": "Python 3",
   "language": "python",
   "name": "python3"
  },
  "language_info": {
   "codemirror_mode": {
    "name": "ipython",
    "version": 3
   },
   "file_extension": ".py",
   "mimetype": "text/x-python",
   "name": "python",
   "nbconvert_exporter": "python",
   "pygments_lexer": "ipython3",
   "version": "3.6.4"
  },
  "widgets": {
   "application/vnd.jupyter.widget-state+json": {
    "state": {},
    "version_major": 2,
    "version_minor": 0
   }
  }
 },
 "nbformat": 4,
 "nbformat_minor": 2
}
